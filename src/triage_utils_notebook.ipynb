{
 "cells": [
  {
   "cell_type": "code",
   "execution_count": null,
   "metadata": {},
   "outputs": [],
   "source": [
    "from langchain_groq import ChatGroq\n",
    "from langgraph.graph import StateGraph, END\n",
    "from typing import TypedDict\n",
    "from langchain_core.messages import HumanMessage\n",
    "import re\n",
    "import os\n",
    "import streamlit as st\n",
    "from langchain_community.document_loaders import PyPDFLoader\n",
    "from langchain_openai import OpenAIEmbeddings\n",
    "from langchain.vectorstores import FAISS\n",
    "from langchain.embeddings import OpenAIEmbeddings\n",
    "from langchain.retrievers import BM25Retriever, EnsembleRetriever\n",
    "from concurrent.futures import ThreadPoolExecutor"
   ]
  },
  {
   "cell_type": "code",
   "execution_count": 3,
   "metadata": {},
   "outputs": [],
   "source": [
    "llm_70b = ChatGroq(model=\"llama-3.1-70b-versatile\", api_key=st.secrets[\"GROQ\"][\"GROQ_API_KEY\"])\n",
    "llm_8b = ChatGroq(model=\"llama-3.1-8b-instant\", api_key=st.secrets[\"GROQ\"][\"GROQ_API_KEY\"])"
   ]
  },
  {
   "cell_type": "code",
   "execution_count": 4,
   "metadata": {},
   "outputs": [],
   "source": [
    "file_path = \"../data/doc_triage/pdf/Manuale-Triage.pdf\""
   ]
  },
  {
   "cell_type": "code",
   "execution_count": 5,
   "metadata": {},
   "outputs": [],
   "source": [
    "file_path = \"../data/doc_triage/pdf/Manuale-Triage.pdf\"\n",
    "loader = PyPDFLoader(file_path)\n",
    "pages = loader.load()[10:20]\n",
    "for doc in pages:\n",
    "    doc.page_content = doc.page_content.replace(\"Manuale regionale Triage intra-ospedaliero modello Lazio a cinque codici \\n \\n\", \"\")\n",
    "    doc.page_content = re.sub(r'^\\d+\\s*\\n\\s*\\n', '', doc.page_content)"
   ]
  },
  {
   "cell_type": "code",
   "execution_count": 6,
   "metadata": {},
   "outputs": [
    {
     "name": "stdout",
     "output_type": "stream",
     "text": [
      "num_cores: 20\n",
      "chunk_size: 20\n"
     ]
    }
   ],
   "source": [
    "def process_pages(pages):\n",
    "    import re\n",
    "    for doc in pages:\n",
    "        doc.page_content = doc.page_content.replace(\n",
    "            \"Manuale regionale Triage intra-ospedaliero modello Lazio a cinque codici \\n \\n\", \"\"\n",
    "        )\n",
    "        doc.page_content = re.sub(r'^\\d+\\s*\\n\\s*\\n', '', doc.page_content)\n",
    "    return pages\n",
    "\n",
    "# Carica le pagine del PDF\n",
    "loader = PyPDFLoader(file_path)\n",
    "pages = loader.load()[11:]\n",
    "\n",
    "# Dividi le pagine in sottogruppi per ogni core\n",
    "num_cores = os.cpu_count()  # Numero di core disponibili\n",
    "print(f\"num_cores: {num_cores}\")\n",
    "chunk_size = len(pages) // num_cores + (len(pages) % num_cores > 0)\n",
    "print(f\"chunk_size: {chunk_size}\")\n",
    "chunks = [pages[i:i + chunk_size] for i in range(0, len(pages), chunk_size)]\n",
    "\n",
    "# Parallelizza il lavoro con ProcessPoolExecutor\n",
    "with ThreadPoolExecutor() as executor:\n",
    "    processed_chunks = list(executor.map(process_pages, chunks))\n",
    "\n",
    "# Combina i risultati\n",
    "processed_pages = [page for chunk in processed_chunks for page in chunk]"
   ]
  },
  {
   "cell_type": "code",
   "execution_count": 7,
   "metadata": {},
   "outputs": [
    {
     "name": "stderr",
     "output_type": "stream",
     "text": [
      "C:\\Users\\david\\AppData\\Local\\Temp\\ipykernel_6024\\126317053.py:8: LangChainDeprecationWarning: The class `OpenAIEmbeddings` was deprecated in LangChain 0.0.9 and will be removed in 1.0. An updated version of the class exists in the :class:`~langchain-openai package and should be used instead. To use it run `pip install -U :class:`~langchain-openai` and import as `from :class:`~langchain_openai import OpenAIEmbeddings``.\n",
      "  embedding = OpenAIEmbeddings()\n"
     ]
    }
   ],
   "source": [
    "# Step 1: Configura l'indice BM25 per i titoli\n",
    "bm25_retriever = BM25Retriever.from_documents(\n",
    "    processed_pages\n",
    "    #key_field=\"metadata.title\"  # Usa i titoli nei metadata\n",
    ")\n",
    "bm25_retriever.k = 2\n",
    "# Step 2: Configura FAISS per i contenuti\n",
    "embedding = OpenAIEmbeddings()\n",
    "vectorstore = FAISS.from_documents(processed_pages, embedding=embedding)\n",
    "similarity_retriever = vectorstore.as_retriever(search_type=\"mmr\", search_kwargs={\"k\": 3})\n",
    "\n",
    "# Step 3: Configura un MultiRetriever\n",
    "ensemble_retriever = EnsembleRetriever(retrievers=[\n",
    "    bm25_retriever,\n",
    "    similarity_retriever\n",
    "], weights=[0.3, 0.7])"
   ]
  },
  {
   "cell_type": "code",
   "execution_count": 8,
   "metadata": {},
   "outputs": [],
   "source": [
    "class Triagetate(TypedDict):\n",
    "    query: str\n",
    "    ensemble_retriever : EnsembleRetriever\n",
    "    user_response : str\n",
    "    severity : int\n",
    "    question : str\n",
    "    next_node : str\n",
    "\n",
    "def start_emergency_bot(state:Triagetate):\n",
    "    # Nodo di coordinamento iniziale, ritorna lo stato invariato\n",
    "    return state\n",
    "\n",
    "def log_state(node_name, state:Triagetate):\n",
    "    print(f\"Node '{node_name}' State: {state}\")"
   ]
  },
  {
   "cell_type": "code",
   "execution_count": 14,
   "metadata": {},
   "outputs": [],
   "source": [
    "def triage_evaluation(state:Triagetate):\n",
    "    log_state(\"triage_evaluation\", state)\n",
    "    query = state['query']\n",
    "    retrieved_docs = ensemble_retriever.invoke(query)\n",
    "    retrieved_info = [doc.page_content for doc in retrieved_docs]\n",
    "    prompt = prompt = f\"\"\"\n",
    "    You are a highly experienced professional in emergency medicine with over 20 years of experience, specialized in Triage operations. Your task is to assess the severity of the user's situation as efficiently as possible. \n",
    "\n",
    "    ### Instructions:\n",
    "    1. **Primary Objective:** Determine the severity of the situation and provide a rating from 1 to 5:\n",
    "    - `1`: Minimal severity, no immediate danger.\n",
    "    - `5`: Critical, life-threatening emergency requiring immediate action.\n",
    "\n",
    "    2. **Use Available Information:**\n",
    "    - Base your assessment primarily on the provided documents related to Triage: {retrieved_info}.\n",
    "    - If the documents do not contain sufficient information, use your expert knowledge to make an informed decision.\n",
    "\n",
    "    3. **Efficiency in Questioning:**\n",
    "    - If you cannot immediately assess the severity, ask the **minimum number of questions** necessary to clarify the situation.\n",
    "    - Your goal is to avoid unnecessary questions and respond as quickly as possible while maintaining accuracy.\n",
    "\n",
    "    4. **Output Format:**\n",
    "    - If you can make a decision immediately, respond with a single number (1-5) representing the severity.\n",
    "    - If additional clarification is required, ask one concise and relevant question.\n",
    "\n",
    "    ### Input:\n",
    "    - User Query: \"{query}\"\n",
    "\n",
    "    ### Output:\n",
    "    - Either: A single number in the range 1-5 representing the severity.\n",
    "    - Or: One concise and specific question to gather the necessary information.\n",
    "    \"\"\"\n",
    "    response = llm_70b.invoke([HumanMessage(content=prompt)]).content\n",
    "    # Analizza il tipo di risposta\n",
    "    if response.isdigit() and int(response) in range(1, 6):\n",
    "        return {\"severity\": int(response), 'next_node' : 'end'}  # Restituisce il numero\n",
    "    else:\n",
    "        return {\"question\": response, 'next_node' : 'new_question'}  # Restituisce la domanda\n",
    "    \n",
    "def ask_user_question(state: Triagetate):\n",
    "    log_state(\"ask_user_question\", state)\n",
    "    user_response = state['user_response']  # Funzione per ottenere la risposta dall'utente\n",
    "    state['query'] += f\" {user_response}\"  # Aggiorna la query con la risposta dell'utente\n",
    "    return state\n",
    "\n",
    "def should_ask(state: Triagetate):\n",
    "    log_state(\"route_next_node\", state)\n",
    "    return state['next_node']  # Restituisce il nome del prossimo nodo"
   ]
  },
  {
   "cell_type": "code",
   "execution_count": 15,
   "metadata": {},
   "outputs": [],
   "source": [
    "# Creazione del grafo\n",
    "graph = StateGraph(Triagetate)\n",
    "\n",
    "# Nodo iniziale per avviare i flussi paralleli\n",
    "graph.add_node(\"start_emergency_bot\", start_emergency_bot)\n",
    "graph.set_entry_point(\"start_emergency_bot\")\n",
    "\n",
    "graph.add_node(\"triage_evaluation\", triage_evaluation)\n",
    "graph.add_edge(\"start_emergency_bot\", \"triage_evaluation\")\n",
    "#graph.add_edge(\"ask_user_question\", \"triage_evaluation\")\n",
    "\n",
    "graph.add_conditional_edges(\n",
    "        \"triage_evaluation\",\n",
    "        should_ask,\n",
    "        {\n",
    "            \"new_question\": \"ask_user_question\",\n",
    "            \"end\": END,\n",
    "        }\n",
    "    )\n",
    "graph.add_node(\"ask_user_question\", ask_user_question)\n",
    "#graph.set_finish_point(\"triage_evaluation\")\n",
    "\n",
    "# Compilazione del grafo\n",
    "app = graph.compile()"
   ]
  },
  {
   "cell_type": "code",
   "execution_count": 16,
   "metadata": {},
   "outputs": [
    {
     "data": {
      "image/png": "[encoded data removed]",
      "text/plain": [
       "<IPython.core.display.Image object>"
      ]
     },
     "metadata": {},
     "output_type": "display_data"
    }
   ],
   "source": [
    "from IPython.display import Image, display\n",
    "try:\n",
    "    display(Image(app.get_graph().draw_mermaid_png()))\n",
    "except Exception as e:\n",
    "    print(e)"
   ]
  },
  {
   "cell_type": "code",
   "execution_count": 18,
   "metadata": {},
   "outputs": [
    {
     "name": "stdout",
     "output_type": "stream",
     "text": [
      "Output del nodo: {'start_emergency_bot': {'query': \"Mi ha punto un'ape\", 'ensemble_retriever': EnsembleRetriever(retrievers=[BM25Retriever(vectorizer=<rank_bm25.BM25Okapi object at 0x000002506D92FE90>, k=2), VectorStoreRetriever(tags=['FAISS', 'OpenAIEmbeddings'], vectorstore=<langchain_community.vectorstores.faiss.FAISS object at 0x000002506FBFD940>, search_type='mmr', search_kwargs={'k': 3})], weights=[0.3, 0.7]), 'user_response': ''}}\n",
      "Node 'triage_evaluation' State: {'query': \"Mi ha punto un'ape\", 'ensemble_retriever': EnsembleRetriever(retrievers=[BM25Retriever(vectorizer=<rank_bm25.BM25Okapi object at 0x000002506D92FE90>, k=2), VectorStoreRetriever(tags=['FAISS', 'OpenAIEmbeddings'], vectorstore=<langchain_community.vectorstores.faiss.FAISS object at 0x000002506FBFD940>, search_type='mmr', search_kwargs={'k': 3})], weights=[0.3, 0.7]), 'user_response': ''}\n",
      "Node 'route_next_node' State: {'question': 'Per valutare la severità della situazione, posso fare alcune considerazioni iniziali. Il fatto che l\\'utente abbia menzionato di essere stato punto da un\\'ape suggerisce che possa trattarsi di una reazione allergica. In base alla mia conoscenza di triage, le reazioni allergiche possono variare da lievi a gravi.\\n\\nPer fare una valutazione più precisa, posso richiedere ulteriori informazioni. La mia domanda è:\\n\\n\"Ha avuto sintomi di reazione allergica dopo il pungiglione, come ad esempio prurito, gonfiore, difficoltà respiratorie o sensazione di mancanza di respiro?\"', 'next_node': 'new_question', 'query': \"Mi ha punto un'ape\", 'ensemble_retriever': EnsembleRetriever(retrievers=[BM25Retriever(vectorizer=<rank_bm25.BM25Okapi object at 0x000002506D92FE90>, k=2), VectorStoreRetriever(tags=['FAISS', 'OpenAIEmbeddings'], vectorstore=<langchain_community.vectorstores.faiss.FAISS object at 0x000002506FBFD940>, search_type='mmr', search_kwargs={'k': 3})], weights=[0.3, 0.7]), 'user_response': ''}\n",
      "Output del nodo: {'triage_evaluation': {'question': 'Per valutare la severità della situazione, posso fare alcune considerazioni iniziali. Il fatto che l\\'utente abbia menzionato di essere stato punto da un\\'ape suggerisce che possa trattarsi di una reazione allergica. In base alla mia conoscenza di triage, le reazioni allergiche possono variare da lievi a gravi.\\n\\nPer fare una valutazione più precisa, posso richiedere ulteriori informazioni. La mia domanda è:\\n\\n\"Ha avuto sintomi di reazione allergica dopo il pungiglione, come ad esempio prurito, gonfiore, difficoltà respiratorie o sensazione di mancanza di respiro?\"', 'next_node': 'new_question'}}\n",
      "Node 'ask_user_question' State: {'query': \"Mi ha punto un'ape\", 'ensemble_retriever': EnsembleRetriever(retrievers=[BM25Retriever(vectorizer=<rank_bm25.BM25Okapi object at 0x000002506D92FE90>, k=2), VectorStoreRetriever(tags=['FAISS', 'OpenAIEmbeddings'], vectorstore=<langchain_community.vectorstores.faiss.FAISS object at 0x000002506FBFD940>, search_type='mmr', search_kwargs={'k': 3})], weights=[0.3, 0.7]), 'user_response': '', 'question': 'Per valutare la severità della situazione, posso fare alcune considerazioni iniziali. Il fatto che l\\'utente abbia menzionato di essere stato punto da un\\'ape suggerisce che possa trattarsi di una reazione allergica. In base alla mia conoscenza di triage, le reazioni allergiche possono variare da lievi a gravi.\\n\\nPer fare una valutazione più precisa, posso richiedere ulteriori informazioni. La mia domanda è:\\n\\n\"Ha avuto sintomi di reazione allergica dopo il pungiglione, come ad esempio prurito, gonfiore, difficoltà respiratorie o sensazione di mancanza di respiro?\"', 'next_node': 'new_question'}\n",
      "Output del nodo: {'ask_user_question': {'query': \"Mi ha punto un'ape \", 'ensemble_retriever': EnsembleRetriever(retrievers=[BM25Retriever(vectorizer=<rank_bm25.BM25Okapi object at 0x000002506D92FE90>, k=2), VectorStoreRetriever(tags=['FAISS', 'OpenAIEmbeddings'], vectorstore=<langchain_community.vectorstores.faiss.FAISS object at 0x000002506FBFD940>, search_type='mmr', search_kwargs={'k': 3})], weights=[0.3, 0.7]), 'user_response': '', 'question': 'Per valutare la severità della situazione, posso fare alcune considerazioni iniziali. Il fatto che l\\'utente abbia menzionato di essere stato punto da un\\'ape suggerisce che possa trattarsi di una reazione allergica. In base alla mia conoscenza di triage, le reazioni allergiche possono variare da lievi a gravi.\\n\\nPer fare una valutazione più precisa, posso richiedere ulteriori informazioni. La mia domanda è:\\n\\n\"Ha avuto sintomi di reazione allergica dopo il pungiglione, come ad esempio prurito, gonfiore, difficoltà respiratorie o sensazione di mancanza di respiro?\"', 'next_node': 'new_question'}}\n"
     ]
    }
   ],
   "source": [
    "input_query = {\n",
    "    \"query\": \"Mi ha punto un'ape\",\n",
    "    \"ensemble_retriever\": ensemble_retriever,\n",
    "    \"user_response\" : \"\"\n",
    "}\n",
    "for output in app.stream(input_query):\n",
    "    print(\"Output del nodo:\", output)\n",
    "    if 'combine_results' in output:\n",
    "        final_output = output"
   ]
  },
  {
   "cell_type": "code",
   "execution_count": 20,
   "metadata": {},
   "outputs": [
    {
     "name": "stdout",
     "output_type": "stream",
     "text": [
      "Node 'triage_evaluation' State: {'query': \"Mi ha punto un'ape\", 'ensemble_retriever': EnsembleRetriever(retrievers=[BM25Retriever(vectorizer=<rank_bm25.BM25Okapi object at 0x000002506D92FE90>, k=2), VectorStoreRetriever(tags=['FAISS', 'OpenAIEmbeddings'], vectorstore=<langchain_community.vectorstores.faiss.FAISS object at 0x000002506FBFD940>, search_type='mmr', search_kwargs={'k': 3})], weights=[0.3, 0.7]), 'user_response': ''}\n",
      "Node 'route_next_node' State: {'question': 'Per valutare la gravità della situazione, devo sapere alcune informazioni in più. Pertanto, la mia risposta sarà una domanda per raccogliere ulteriori dati.\\n\\nDomanda: \"Hai avuto in passato reazioni allergiche gravi a punture di insetti, come ad esempio una reazione anafilattica?\"', 'next_node': 'new_question', 'query': \"Mi ha punto un'ape\", 'ensemble_retriever': EnsembleRetriever(retrievers=[BM25Retriever(vectorizer=<rank_bm25.BM25Okapi object at 0x000002506D92FE90>, k=2), VectorStoreRetriever(tags=['FAISS', 'OpenAIEmbeddings'], vectorstore=<langchain_community.vectorstores.faiss.FAISS object at 0x000002506FBFD940>, search_type='mmr', search_kwargs={'k': 3})], weights=[0.3, 0.7]), 'user_response': ''}\n",
      "Node 'ask_user_question' State: {'query': \"Mi ha punto un'ape\", 'ensemble_retriever': EnsembleRetriever(retrievers=[BM25Retriever(vectorizer=<rank_bm25.BM25Okapi object at 0x000002506D92FE90>, k=2), VectorStoreRetriever(tags=['FAISS', 'OpenAIEmbeddings'], vectorstore=<langchain_community.vectorstores.faiss.FAISS object at 0x000002506FBFD940>, search_type='mmr', search_kwargs={'k': 3})], weights=[0.3, 0.7]), 'user_response': '', 'question': 'Per valutare la gravità della situazione, devo sapere alcune informazioni in più. Pertanto, la mia risposta sarà una domanda per raccogliere ulteriori dati.\\n\\nDomanda: \"Hai avuto in passato reazioni allergiche gravi a punture di insetti, come ad esempio una reazione anafilattica?\"', 'next_node': 'new_question'}\n",
      "Per valutare la gravità della situazione, devo sapere alcune informazioni in più. Pertanto, la mia risposta sarà una domanda per raccogliere ulteriori dati.\n",
      "\n",
      "Domanda: \"Hai avuto in passato reazioni allergiche gravi a punture di insetti, come ad esempio una reazione anafilattica?\"\n"
     ]
    }
   ],
   "source": [
    "output = app.invoke(input_query)\n",
    "severity = output.get('severity', None)\n",
    "if severity:\n",
    "    print(severity)\n",
    "else:\n",
    "    print(output['question'])"
   ]
  },
  {
   "cell_type": "code",
   "execution_count": null,
   "metadata": {},
   "outputs": [],
   "source": []
  }
 ],
 "metadata": {
  "kernelspec": {
   "display_name": "venv",
   "language": "python",
   "name": "python3"
  },
  "language_info": {
   "codemirror_mode": {
    "name": "ipython",
    "version": 3
   },
   "file_extension": ".py",
   "mimetype": "text/x-python",
   "name": "python",
   "nbconvert_exporter": "python",
   "pygments_lexer": "ipython3",
   "version": "3.12.8"
  }
 },
 "nbformat": 4,
 "nbformat_minor": 2
}
